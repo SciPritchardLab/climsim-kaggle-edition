{
 "cells": [
  {
   "cell_type": "code",
   "execution_count": 2,
   "id": "5d1db0c5-2269-4b65-903e-2df0f63bafd2",
   "metadata": {},
   "outputs": [
    {
     "name": "stderr",
     "output_type": "stream",
     "text": [
      "2025-02-18 19:13:42.700218: E external/local_xla/xla/stream_executor/cuda/cuda_fft.cc:485] Unable to register cuFFT factory: Attempting to register factory for plugin cuFFT when one has already been registered\n",
      "2025-02-18 19:13:42.860481: E external/local_xla/xla/stream_executor/cuda/cuda_dnn.cc:8454] Unable to register cuDNN factory: Attempting to register factory for plugin cuDNN when one has already been registered\n",
      "2025-02-18 19:13:42.901370: E external/local_xla/xla/stream_executor/cuda/cuda_blas.cc:1452] Unable to register cuBLAS factory: Attempting to register factory for plugin cuBLAS when one has already been registered\n",
      "2025-02-18 19:13:43.134495: I tensorflow/core/platform/cpu_feature_guard.cc:210] This TensorFlow binary is optimized to use available CPU instructions in performance-critical operations.\n",
      "To enable the following instructions: AVX2 FMA, in other operations, rebuild TensorFlow with the appropriate compiler flags.\n"
     ]
    }
   ],
   "source": [
    "import numpy as np\n",
    "from sklearn.metrics import r2_score\n",
    "import torch\n",
    "import os, gc\n",
    "from climsim_utils.data_utils import *\n",
    "from tqdm import tqdm"
   ]
  },
  {
   "cell_type": "code",
   "execution_count": 13,
   "id": "a1845eef-bee5-4933-a5f0-a19e1cfc3360",
   "metadata": {},
   "outputs": [],
   "source": [
    "\n",
    "input_path = '/pscratch/sd/j/jerrylin/hugging/E3SM-MMF_ne4/preprocessing/v2_rh_mc_full/scoring_set/scoring_input.npy'\n",
    "target_path = '/pscratch/sd/j/jerrylin/hugging/E3SM-MMF_ne4/preprocessing/v2_rh_mc_full/scoring_set/scoring_target.npy'\n",
    "preds_path = '/pscratch/sd/j/jerrylin/hugging/E3SM-MMF_ne4/preprocessing/v2_rh_mc_full/scoring_set/scoring_set/'\n",
    "\n",
    "grid_path = '/global/cfs/cdirs/m4334/jerry/climsim3_dev/grid_info/ClimSim_low-res_grid-info.nc'\n",
    "norm_path = '/global/cfs/cdirs/m4334/jerry/climsim3_dev/preprocessing/normalizations/'\n",
    "\n",
    "unet_model_path = '/pscratch/sd/k/kfrields/hugging/E3SM-MMF_saved_models/unet_adam'\n",
    "\n",
    "model_paths = {'unet': unet_model_path}\n",
    "\n",
    "model_colors = {'unet': 'blue'}\n",
    "\n",
    "model_labels = {'unet': 'pure resLSTM'}\n",
    "\n",
    "num_models = len(model_paths)\n",
    "model_preds = {}\n",
    "r2_scores = {}\n",
    "r2_scores_capped = {}\n",
    "zonal_heating_r2 = {}\n",
    "zonal_moistening_r2 = {}\n",
    "\n",
    "input_mean_file = 'inputs/input_mean_v6_pervar.nc'\n",
    "input_max_file = 'inputs/input_max_v6_pervar.nc'\n",
    "input_min_file = 'inputs/input_min_v6_pervar.nc'\n",
    "output_scale_file = 'outputs/output_scale_std_lowerthred_v6.nc'\n",
    "lbd_qn_file = 'inputs/qn_exp_lambda_large.txt'\n",
    "\n",
    "\n",
    "\n",
    "grid_info = xr.open_dataset(grid_path)\n",
    "input_mean = xr.open_dataset(norm_path + input_mean_file)\n",
    "input_max = xr.open_dataset(norm_path + input_max_file)\n",
    "input_min = xr.open_dataset(norm_path + input_min_file)\n",
    "output_scale = xr.open_dataset(norm_path + output_scale_file)\n",
    "lbd_qn = np.loadtxt(norm_path + lbd_qn_file, delimiter = ',')\n",
    "\n",
    "\n",
    "\n"
   ]
  },
  {
   "cell_type": "code",
   "execution_count": 6,
   "id": "4bd747d3-0702-4f12-afc5-132a0dac313b",
   "metadata": {},
   "outputs": [],
   "source": [
    "data = data_utils(grid_info = grid_info, \n",
    "                  input_mean = input_mean, \n",
    "                  input_max = input_max, \n",
    "                  input_min = input_min, \n",
    "                  output_scale = output_scale,\n",
    "                  qinput_log = False)\n",
    "data.set_to_v2_rh_mc_vars()\n",
    "\n",
    "input_sub, input_div, out_scale = data.save_norm(write=False) # this extracts only the relevant variables\n",
    "input_sub = input_sub[None, :]\n",
    "input_div = input_div[None, :]\n",
    "out_scale = out_scale[None, :]\n",
    "\n",
    "lat = grid_info['lat'].values\n",
    "lon = grid_info['lon'].values\n",
    "lat_bin_mids = data.lat_bin_mids"
   ]
  },
  {
   "cell_type": "code",
   "execution_count": 14,
   "id": "0ee0f4c2-c2e3-47e3-87e6-c6cbe932b957",
   "metadata": {},
   "outputs": [],
   "source": [
    "npy_input = np.load(input_path)"
   ]
  },
  {
   "cell_type": "code",
   "execution_count": 17,
   "id": "f21ec8f2-ca97-4108-ba1f-7beef80755be",
   "metadata": {},
   "outputs": [
    {
     "data": {
      "text/plain": [
       "360"
      ]
     },
     "execution_count": 17,
     "metadata": {},
     "output_type": "execute_result"
    }
   ],
   "source": [
    "data.ps_index\n"
   ]
  },
  {
   "cell_type": "code",
   "execution_count": 25,
   "id": "23601db4-5db4-4b26-b6e2-402841ad84ad",
   "metadata": {},
   "outputs": [
    {
     "data": {
      "text/plain": [
       "(1681920, 557)"
      ]
     },
     "execution_count": 25,
     "metadata": {},
     "output_type": "execute_result"
    }
   ],
   "source": [
    "npy_input.shape"
   ]
  },
  {
   "cell_type": "code",
   "execution_count": 33,
   "id": "3cac79eb-e043-40ec-8c03-95fec846cc1e",
   "metadata": {},
   "outputs": [
    {
     "data": {
      "text/plain": [
       "array([7.83478113e-05, 1.41108318e-04, 2.52923297e-04, 4.49250635e-04,\n",
       "       7.86346161e-04, 1.34735576e-03, 2.24477729e-03, 3.61643148e-03,\n",
       "       5.61583643e-03, 8.40325322e-03, 1.21444894e-02, 1.70168280e-02,\n",
       "       2.32107981e-02, 3.09143463e-02, 4.02775807e-02, 5.13746323e-02,\n",
       "       6.41892284e-02, 7.86396576e-02, 9.46300920e-02, 1.12091274e-01,\n",
       "       1.30977804e-01, 1.51221318e-01, 1.71834677e-01, 1.79455096e-01,\n",
       "       1.74312038e-01, 1.69085103e-01, 1.63810524e-01, 1.58490091e-01,\n",
       "       1.53096986e-01, 1.47591258e-01, 1.41935802e-01, 1.36105697e-01,\n",
       "       1.30089487e-01, 1.23886244e-01, 1.17504126e-01, 1.10963956e-01,\n",
       "       1.04306593e-01, 9.75986738e-02, 9.09302689e-02, 8.44015017e-02,\n",
       "       7.81015945e-02, 7.20893971e-02, 6.63850677e-02, 6.09771059e-02,\n",
       "       5.58405513e-02, 5.09562608e-02, 4.63213463e-02, 4.19465312e-02,\n",
       "       3.78435917e-02, 3.40108582e-02, 3.04246539e-02, 2.70402809e-02,\n",
       "       2.38007872e-02, 2.06484555e-02, 1.75340274e-02, 1.44211300e-02,\n",
       "       1.12861562e-02, 8.11546485e-03, 4.90190255e-03, 1.64190465e-03])"
      ]
     },
     "execution_count": 33,
     "metadata": {},
     "output_type": "execute_result"
    }
   ],
   "source": [
    "data.hyam"
   ]
  },
  {
   "cell_type": "code",
   "execution_count": 36,
   "id": "03649f79-cc22-4647-b347-ce31c3d1b91d",
   "metadata": {},
   "outputs": [
    {
     "data": {
      "text/plain": [
       "array([10000000.  , 10000000.  , 10000000.  , 10000000.  , 10000000.  ,\n",
       "       10000000.  , 10000000.  , 10000000.  , 10000000.  , 10000000.  ,\n",
       "       10000000.  ,  7556905.  ,  3240295.  ,  4409304.  ,  5388912.  ,\n",
       "        1414190.  ,   444847.  ,   550036.7 ,   452219.5 ,   243545.1 ,\n",
       "         163264.2 ,   128850.9 ,   108392.1 ,    96868.65,    90154.39,\n",
       "          83498.67,    76720.53,    70937.79,    66821.03,    63916.47,\n",
       "          61597.41,    60417.97,    60359.64,    60430.77,    59696.93,\n",
       "          58222.95,    56637.11,    54844.45,    52735.8 ,    50450.12,\n",
       "          47895.  ,    45134.95,    42075.53,    38557.91,    34843.47,\n",
       "          31537.89,    29179.72,    28016.06,    27844.87,    28377.06,\n",
       "          29532.22,    31360.65,    34174.61,    38452.69,    44777.3 ,\n",
       "          53238.53,    61797.74,    66939.84,    70867.57,    94733.63])"
      ]
     },
     "execution_count": 36,
     "metadata": {},
     "output_type": "execute_result"
    }
   ],
   "source": [
    "lbd_qn\n"
   ]
  },
  {
   "cell_type": "code",
   "execution_count": null,
   "id": "f6279a64-6dc3-42bb-a4c8-f488e5d01002",
   "metadata": {},
   "outputs": [],
   "source": [
    "def preprocessing_v2_rh_mc(data, input_path, target_path):\n",
    "    npy_input = np.load(input_path)\n",
    "    npy_target = np.load(target_path)\n",
    "    \n",
    "    surface_pressure = npy_input[:, data.ps_index] * \\\n",
    "                        (input_max['state_ps'].values - input_min['state_ps'].values) + \\\n",
    "                        input_mean['state_ps'].values\n",
    "    \n",
    "    hyam_component = (data.hyam * data.p0)[np.newaxis,:]\n",
    "    hybm_component = data.hybm[np.newaxis,:] * surface_pressure[:, np.newaxis]\n",
    "    \n",
    "    pressures = hyam_component + hybm_component\n",
    "    pressures = pressures.reshape(-1,384,60)\n",
    "    \n",
    "    pressures_binned = data.zonal_bin_weight_3d(pressures)\n",
    "    \n",
    "    npy_input[:,120:180] = 1 - np.exp(-npy_input[:,120:180] * lbd_qn)\n",
    "    npy_input = (npy_input - input_sub)/input_div\n",
    "    npy_input = np.where(np.isnan(npy_input), 0, npy_input)\n",
    "    npy_input = np.where(np.isinf(npy_input), 0, npy_input)\n",
    "    npy_input[:,120:120+15] = 0\n",
    "    npy_input[:,60:120] = np.clip(npy_input[:,60:120], 0, 1.2)\n",
    "    torch_input = torch.tensor(npy_input).float()\n",
    "    reshaped_target = npy_target.reshape(-1, data.num_latlon, data.target_feature_len)\n",
    "    return torch_input, reshaped_target, pressures_binned\n",
    "\n",
    "torch_input, reshaped_target, pressures_binned = preprocessing_v2_rh_mc(data, input_path, target_path)\n",
    "\n",
    "assert torch_input.shape[0] == reshaped_target.shape[0] * reshaped_target.shape[1]\n",
    "assert torch_input.shape[0] % data.num_latlon == 0\n"
   ]
  },
  {
   "cell_type": "code",
   "execution_count": null,
   "id": "241df307-3ab8-434e-92ca-8e2d4d54f09a",
   "metadata": {},
   "outputs": [],
   "source": [
    "# model inference\n",
    "device = torch.device('cuda' if torch.cuda.is_available() else 'cpu')\n",
    "for model_name in model_paths.keys():\n",
    "    model = torch.jit.load(model_paths[model_name]).to(device)\n",
    "    model.eval()\n",
    "    model_batch_pred_list = []\n",
    "    batch_size = data.num_latlon\n",
    "    with torch.no_grad():\n",
    "        for i in tqdm(range(0, torch_input.shape[0], batch_size)):\n",
    "            model_batch_pred = model(torch_input[i : i + batch_size, :]) # inference on batch\n",
    "            model_batch_pred_list.append(model_batch_pred.cpu().numpy() / out_scale)\n",
    "            if i > 3840: # this is temporary, remove in final code\n",
    "                break # this is temporary, remove in final code\n",
    "    model_preds[model_name] = np.stack(model_batch_pred_list, axis = 0) # 0 axis corresponds to time\n",
    "    np.save(f'{model_name}_preds.npy', model_preds[model_name])\n",
    "    \n",
    "    del model\n",
    "    del model_batch_pred_list\n",
    "    gc.collect()\n",
    "\n",
    "reshaped_target = reshaped_target[:12,...] # this is temporary, remove this later\n",
    "pressures_binned = pressures_binned[:12,...] # this is temporary, remove this later\n",
    "\n"
   ]
  },
  {
   "cell_type": "code",
   "execution_count": null,
   "id": "86dc69b8-a8fd-40e0-a8ea-e097a10234d1",
   "metadata": {},
   "outputs": [],
   "source": [
    "def show_r2(target, preds):\n",
    "    assert target.shape == preds.shape\n",
    "    new_shape = (np.prod(target.shape[:-1]), target.shape[-1])\n",
    "    target_flattened = target.reshape(new_shape)\n",
    "    preds_flattened = preds.reshape(new_shape)\n",
    "    r2_scores = np.array([r2_score(target_flattened[:, i], preds_flattened[:, i]) for i in range(308)])\n",
    "    r2_scores_capped = r2_scores.copy()\n",
    "    r2_scores_capped[r2_scores_capped < 0] = 0\n",
    "    return r2_scores, r2_scores_capped"
   ]
  },
  {
   "cell_type": "code",
   "execution_count": null,
   "id": "3a853dfb-2441-4150-a550-63f055d3f467",
   "metadata": {},
   "outputs": [],
   "source": [
    "plt.figure(figsize=(10, 6))\n",
    "for model_name in model_paths.keys():\n",
    "    r2_scores[model_name], r2_scores_capped[model_name] = show_r2(reshaped_target, model_preds[model_name])\n",
    "    label_text = f'{model_labels[model_name]}: {np.mean(r2_scores[model_name]):.3g}' \n",
    "    plt.plot(np.arange(data.target_feature_len), r2_scores[model_name], color = model_colors[model_name], label=f\"{label_text}\")\n",
    "    \n",
    "plt.legend()\n",
    "plt.xlabel('Feature Index')\n",
    "plt.ylabel(r'$R^2$ Score')\n",
    "plt.title(r'$R^2$ Score Comparison')\n",
    "\n",
    "feature_indices = [0, 60, 120, 180, 240, 300, 308]\n",
    "feature_labels = ['dT', 'dQv', 'dQn (liq+ice)', 'dU', 'dV', 'scalars', '']\n",
    "plt.xticks(ticks=feature_indices, labels=feature_labels)\n",
    "plt.ylim(0, 1)\n",
    "plt.grid(True)\n",
    "\n",
    "# Show the plot\n",
    "plt.tight_layout()\n",
    "plt.savefig(preds_path + 'r2_lines.png')\n",
    "plt.clf()"
   ]
  },
  {
   "cell_type": "code",
   "execution_count": null,
   "id": "94eaa3d5-c437-4c42-b895-65ba7204dc5c",
   "metadata": {},
   "outputs": [],
   "source": [
    "\n",
    "def get_coeff(target, pred):\n",
    "    rss = np.sum((pred - target)**2, axis = 0)\n",
    "    tss = np.sum((target - np.mean(target, axis = 0)[None,:,:])**2, axis = 0)\n",
    "    coeff = 1 - rss/tss\n",
    "    mask = tss == 0\n",
    "    coeff[mask] = 1.0 * (rss[mask] == 0) \n",
    "    return coeff\n"
   ]
  },
  {
   "cell_type": "code",
   "execution_count": null,
   "id": "fd59bde7-288c-4874-a2e5-987508ed4c51",
   "metadata": {},
   "outputs": [],
   "source": [
    "\n",
    "for model_name in model_paths.keys():\n",
    "    zonal_heating_r2[model_name] = data.zonal_bin_weight_3d(get_coeff(reshaped_target[:,:,:60], \\\n",
    "                                                                      model_preds[model_name][:,:,:60]))[0]\n",
    "    zonal_moistening_r2[model_name] = data.zonal_bin_weight_3d(get_coeff(reshaped_target[:,:,60:120], \\\n",
    "  "
   ]
  },
  {
   "cell_type": "code",
   "execution_count": null,
   "id": "198a1e34-25c0-428e-8a72-46d5f7706a36",
   "metadata": {},
   "outputs": [],
   "source": [
    "                                                                        model_preds[model_name][:,:,60:120]))[0]\n",
    "fig, ax = plt.subplots(2, num_models, figsize = (num_models*12, 18))\n",
    "y = np.arange(60)\n",
    "X, Y = np.meshgrid(np.sin(np.pi*lat_bin_mids/180), y)\n",
    "for i, model_name in enumerate(model_paths.keys()):\n",
    "    contour_plot_heating = ax[0,i].pcolor(X, Y, zonal_heating_r2[model_name].T, cmap='Blues', vmin = 0, vmax = 1)\n",
    "    ax[0,i].contour(X, Y, zonal_heating_r2[model_name].T, [0.7], colors='orange', linewidths=[4])\n",
    "    ax[0,i].contour(X, Y, zonal_heating_r2[model_name].T, [0.9], colors='yellow', linewidths=[4])\n",
    "    ax[0,i].set_ylim(ax[0,i].get_ylim()[::-1])\n",
    "    ax[0,i].set_title(f'{model_name} - heating')\n",
    "    contour_plot = ax[1,i].pcolor(X, Y, zonal_moistening_r2[model_name].T, cmap='Blues', vmin = 0, vmax = 1) # pcolormesh\n",
    "    ax[1,i].contour(X, Y, zonal_moistening_r2[model_name].T, [0.7], colors='orange', linewidths=[4])\n",
    "    ax[1,i].contour(X, Y, zonal_moistening_r2[model_name].T, [0.9], colors='yellow', linewidths=[4])\n",
    "    ax[1,i].set_ylim(ax[1,i].get_ylim()[::-1])\n",
    "    ax[1,i].set_title(f'{model_name} - moistening')\n",
    "    ax[1,i].xaxis.set_ticks([np.sin(-50/180*np.pi), 0, np.sin(50/180*np.pi)])\n",
    "    ax[1,i].xaxis.set_ticklabels(['50$^\\circ$S', '0$^\\circ$', '50$^\\circ$N'])\n",
    "    ax[1,i].xaxis.set_tick_params(width = 2)\n",
    "    if i != 0:\n",
    "        ax[0,i].set_yticks([])\n",
    "        ax[1,i].set_yticks([])\n",
    "ax[0,0].set_ylabel(\"Pressure [hPa]\")\n",
    "ax[0,0].yaxis.set_label_coords(-0.2,-0.09) # (-1.38,-0.09)\n",
    "ax[0,0].yaxis.set_ticks([1000,800,600,400,200,0])\n",
    "ax[1,0].yaxis.set_ticks([1000,800,600,400,200,0])\n",
    "fig.subplots_adjust(right=0.8)\n",
    "cbar_ax = fig.add_axes([0.82, 0.12, 0.02, 0.76])\n",
    "cb = fig.colorbar(contour_plot, cax=cbar_ax)\n",
    "cb.set_label(\"Skill Score \"+r'$\\left(\\mathrm{R^{2}}\\right)$',labelpad=50.1)\n",
    "plt.suptitle(\"Baseline Models Skill for Vertically Resolved Tendencies\", y = 0.97)\n",
    "plt.subplots_adjust(hspace=0.13)\n",
    "plt.show()\n",
    "plt.savefig(preds_path + 'press_lat_r2_models.png', bbox_inches='tight', pad_inches=0.1 , dpi = 300)\n",
    "plt.clf()"
   ]
  }
 ],
 "metadata": {
  "kernelspec": {
   "display_name": "MyEnvironment",
   "language": "python",
   "name": "env"
  },
  "language_info": {
   "codemirror_mode": {
    "name": "ipython",
    "version": 3
   },
   "file_extension": ".py",
   "mimetype": "text/x-python",
   "name": "python",
   "nbconvert_exporter": "python",
   "pygments_lexer": "ipython3",
   "version": "3.10.12"
  }
 },
 "nbformat": 4,
 "nbformat_minor": 5
}
