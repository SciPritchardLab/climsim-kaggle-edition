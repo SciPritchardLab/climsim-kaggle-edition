{
 "cells": [
  {
   "cell_type": "code",
   "execution_count": 1,
   "id": "fd6735e8-de4a-4b8a-910c-0411e3eda7a6",
   "metadata": {},
   "outputs": [
    {
     "name": "stderr",
     "output_type": "stream",
     "text": [
      "/usr/local/lib/python3.10/dist-packages/IPython/core/magics/osm.py:417: UserWarning: using dhist requires you to install the `pickleshare` library.\n",
      "  self.shell.db['dhist'] = compress_dhist(dhist)[-100:]\n"
     ]
    },
    {
     "name": "stdout",
     "output_type": "stream",
     "text": [
      "/global/u2/z/zeyuanhu/nvidia_codes/Climsim_private\n"
     ]
    },
    {
     "name": "stderr",
     "output_type": "stream",
     "text": [
      "2025-02-07 20:49:12.910758: E external/local_xla/xla/stream_executor/cuda/cuda_dnn.cc:9261] Unable to register cuDNN factory: Attempting to register factory for plugin cuDNN when one has already been registered\n",
      "2025-02-07 20:49:12.910856: E external/local_xla/xla/stream_executor/cuda/cuda_fft.cc:607] Unable to register cuFFT factory: Attempting to register factory for plugin cuFFT when one has already been registered\n",
      "2025-02-07 20:49:12.973300: E external/local_xla/xla/stream_executor/cuda/cuda_blas.cc:1515] Unable to register cuBLAS factory: Attempting to register factory for plugin cuBLAS when one has already been registered\n",
      "2025-02-07 20:49:13.121156: I tensorflow/core/platform/cpu_feature_guard.cc:182] This TensorFlow binary is optimized to use available CPU instructions in performance-critical operations.\n",
      "To enable the following instructions: AVX2 FMA, in other operations, rebuild TensorFlow with the appropriate compiler flags.\n"
     ]
    }
   ],
   "source": [
    "%cd /global/u2/z/zeyuanhu/nvidia_codes/Climsim_private/\n",
    "from climsim_utils.data_utils import *"
   ]
  },
  {
   "cell_type": "code",
   "execution_count": 2,
   "id": "86ec4691-a9dc-4789-9989-983315508f8f",
   "metadata": {},
   "outputs": [],
   "source": [
    "import torch\n",
    "from torch.utils.data import Dataset, DataLoader\n",
    "import numpy as np\n",
    "import torch.optim as optim\n",
    "import torch.nn as nn\n",
    "from tqdm import tqdm\n",
    "from dataclasses import dataclass\n",
    "import modulus\n",
    "from modulus.metrics.general.mse import mse\n",
    "from modulus.utils import StaticCaptureTraining, StaticCaptureEvaluateNoGrad\n",
    "from omegaconf import DictConfig\n",
    "from modulus.launch.logging import (\n",
    "    PythonLogger,\n",
    "    LaunchLogger,\n",
    "    initialize_wandb,\n",
    "    RankZeroLoggingWrapper,\n",
    ")"
   ]
  },
  {
   "cell_type": "code",
   "execution_count": 3,
   "id": "a7ce9d61-1079-45ec-b002-0592e9d26a82",
   "metadata": {},
   "outputs": [
    {
     "name": "stdout",
     "output_type": "stream",
     "text": [
      "/global/u2/z/zeyuanhu/nvidia_codes/Climsim_private/Hu_models/Unet_v2rh_mc/training\n"
     ]
    },
    {
     "name": "stderr",
     "output_type": "stream",
     "text": [
      "/usr/local/lib/python3.10/dist-packages/IPython/core/magics/osm.py:417: UserWarning: using dhist requires you to install the `pickleshare` library.\n",
      "  self.shell.db['dhist'] = compress_dhist(dhist)[-100:]\n"
     ]
    }
   ],
   "source": [
    "%cd /global/u2/z/zeyuanhu/nvidia_codes/Climsim_private/Hu_models/Unet_v2rh_mc/training\n",
    "from climsim_unet import ClimsimUnet\n",
    "import climsim_unet as climsim_unet"
   ]
  },
  {
   "cell_type": "code",
   "execution_count": 4,
   "id": "2df5bbb2-9b99-43e6-92cd-decda1c2cff5",
   "metadata": {},
   "outputs": [],
   "source": [
    "climsim_path = '/global/u2/z/zeyuanhu/nvidia_codes/Climsim_private/'\n",
    "grid_path = climsim_path+'/grid_info/ClimSim_low-res_grid-info.nc'\n",
    "norm_path = climsim_path+'/preprocessing/normalizations/'\n",
    "\n",
    "grid_info = xr.open_dataset(grid_path)\n",
    "input_mean = xr.open_dataset(norm_path + 'inputs/input_mean_v5_pervar.nc')\n",
    "input_max = xr.open_dataset(norm_path + 'inputs/input_max_v5_pervar.nc')\n",
    "input_min = xr.open_dataset(norm_path + 'inputs/input_min_v5_pervar.nc')\n",
    "output_scale = xr.open_dataset(norm_path + 'outputs/output_scale_std_lowerthred_v5.nc')\n",
    "# del data\n",
    "data = data_utils(grid_info = grid_info, \n",
    "                  input_mean = input_mean, \n",
    "                  input_max = input_max, \n",
    "                  input_min = input_min, \n",
    "                  output_scale = output_scale,\n",
    "                 qinput_log=False,\n",
    "                 normalize=False)\n",
    "\n",
    "lbd_qn = np.loadtxt(norm_path + 'inputs/qn_exp_lambda_large.txt', delimiter=',')\n",
    "\n",
    "    \n",
    "# set variables to V1 subset\n",
    "data.set_to_v5_vars()\n",
    "\n",
    "input_sub, input_div, out_scale = data.save_norm(write=False)"
   ]
  },
  {
   "cell_type": "code",
   "execution_count": 5,
   "id": "0920a427-395e-4ab6-abec-73a4560f077a",
   "metadata": {},
   "outputs": [],
   "source": [
    "class NewModel(nn.Module):\n",
    "    def __init__(self, original_model, input_sub, input_div, out_scale, lbd_qn):\n",
    "        super(NewModel, self).__init__()\n",
    "        self.original_model = original_model\n",
    "        self.input_sub = torch.tensor(input_sub, dtype=torch.float32, device=torch.device(\"cuda\"))\n",
    "        self.input_div = torch.tensor(input_div, dtype=torch.float32, device=torch.device(\"cuda\"))\n",
    "        self.out_scale = torch.tensor(out_scale, dtype=torch.float32, device=torch.device(\"cuda\"))\n",
    "        self.lbd_qn = torch.tensor(lbd_qn, dtype=torch.float32, device=torch.device(\"cuda\"))\n",
    "\n",
    "    def to(self, device):\n",
    "        \"\"\"Ensure all tensors are moved to the correct device\"\"\"\n",
    "        self.input_sub = self.input_sub.to(device)\n",
    "        self.input_div = self.input_div.to(device)\n",
    "        self.out_scale = self.out_scale.to(device)\n",
    "        self.lbd_qn = self.lbd_qn.to(device)\n",
    "        return super().to(device)\n",
    "    \n",
    "    def apply_temperature_rules(self, T):\n",
    "        # Create an output tensor, initialized to zero\n",
    "        output = torch.zeros_like(T)\n",
    "\n",
    "        # Apply the linear transition within the range 253.16 to 273.16\n",
    "        mask = (T >= 253.16) & (T <= 273.16)\n",
    "        output[mask] = (T[mask] - 253.16) / 20.0  # 20.0 is the range (273.16 - 253.16)\n",
    "\n",
    "        # Values where T > 273.16 set to 1\n",
    "        output[T > 273.16] = 1\n",
    "\n",
    "        # Values where T < 253.16 are already set to 0 by the initialization\n",
    "        return output\n",
    "\n",
    "    def preprocessing(self, x):\n",
    "        \n",
    "        # convert v4 input array to v5 input array:\n",
    "        xout = x\n",
    "        xout_new = torch.zeros((xout.shape[0], 1405), dtype=xout.dtype, device=x.device)\n",
    "        xout_new[:,0:120] = xout[:,0:120]\n",
    "        xout_new[:,120:180] = xout[:,120:180] + xout[:,180:240]\n",
    "        xout_new[:,180:240] = self.apply_temperature_rules(xout[:,0:60])\n",
    "        xout_new[:,240:840] = xout[:,240:840] #60*14\n",
    "        xout_new[:,840:900] = xout[:,840:900]+ xout[:,900:960] #dqc+dqi\n",
    "        xout_new[:,900:1080] = xout[:,960:1140]\n",
    "        xout_new[:,1080:1140] = xout[:,1140:1200]+ xout[:,1200:1260]\n",
    "        xout_new[:,1140:1405] = xout[:,1260:1525]\n",
    "        x = xout_new\n",
    "        \n",
    "        #do input normalization\n",
    "        x[:,120:180] = 1 - torch.exp(-x[:,120:180] * self.lbd_qn.to(x.device))\n",
    "        x= (x - self.input_sub.to(x.device)) / self.input_div.to(x.device)\n",
    "        x = torch.where(torch.isnan(x), torch.tensor(0.0, device=x.device), x)\n",
    "        x = torch.where(torch.isinf(x), torch.tensor(0.0, device=x.device), x)\n",
    "        \n",
    "        #prune top 15 levels in qn input\n",
    "        x[:,120:120+15] = 0\n",
    "        #clip rh input\n",
    "        x[:, 60:120] = torch.clamp(x[:, 60:120], 0, 1.2)\n",
    "\n",
    "        # convert v5 input to v2rh_mc input\n",
    "        xout_new2 = torch.zeros((xout.shape[0], 557), dtype=xout.dtype, device=x.device)\n",
    "        xout_new2[:,0:360] = x[:,0:360]\n",
    "        xout_new2[:,360:557] = x[:,1200:1397]\n",
    "        # xout_new2[:,540:557] = x[:,1380:1397]\n",
    "        x = xout_new2\n",
    "        return x\n",
    "\n",
    "    def postprocessing(self, x):\n",
    "        x[:,60:75] = 0\n",
    "        x[:,120:135] = 0\n",
    "        x[:,180:195] = 0\n",
    "        x[:,240:255] = 0\n",
    "        x = x/self.out_scale\n",
    "        return x\n",
    "\n",
    "    def forward(self, x):\n",
    "        print(f\"Model forward pass running on device: {x.device}\")\n",
    "        # Print the number of available CUDA devices\n",
    "        num_gpus = torch.cuda.device_count()\n",
    "        print(f\"Number of available CUDA devices: {num_gpus}\")\n",
    "        t_before = x[:,0:60].clone()\n",
    "        qc_before = x[:,120:180].clone()\n",
    "        qi_before = x[:,180:240].clone()\n",
    "        qn_before = qc_before + qi_before\n",
    "        \n",
    "        x = self.preprocessing(x)\n",
    "        x = self.original_model(x)\n",
    "        x = self.postprocessing(x)\n",
    "        \n",
    "        t_new = t_before + x[:,0:60]*1200.\n",
    "        qn_new = qn_before + x[:,120:180]*1200.\n",
    "        liq_frac = self.apply_temperature_rules(t_new)\n",
    "        qc_new = liq_frac*qn_new\n",
    "        qi_new = (1-liq_frac)*qn_new\n",
    "        xout = torch.zeros((x.shape[0],368), device=x.device)\n",
    "        xout[:,0:120] = x[:,0:120]\n",
    "        xout[:,240:] = x[:,180:]\n",
    "        xout[:,120:180] = (qc_new - qc_before)/1200.\n",
    "        xout[:,180:240] = (qi_new - qi_before)/1200.\n",
    "        return xout"
   ]
  },
  {
   "cell_type": "code",
   "execution_count": 6,
   "id": "c722d98a-a160-4cb3-b446-1d79cb782fcc",
   "metadata": {},
   "outputs": [],
   "source": [
    "device = torch.device(\"cuda\")\n",
    "f_torch_model = '/pscratch/sd/z/zeyuanhu/hugging/E3SM-MMF_ne4/saved_models/v2rh_mc_fix_huber/model.mdlus'\n",
    "model_inf = modulus.Module.from_checkpoint(f_torch_model).to(device)\n",
    "new_model = NewModel(model_inf, input_sub, input_div, out_scale, lbd_qn).to(device)\n",
    "NewModel.device = \"cuda\"\n",
    "device = torch.device(\"cuda\")\n",
    "scripted_model = torch.jit.script(new_model)\n",
    "scripted_model = scripted_model.eval()\n",
    "save_file_torch = os.path.join('/pscratch/sd/z/zeyuanhu/hugging/E3SM-MMF_ne4/saved_models_wrapper/', 'v2rh_mc_fix_huber_cuda.pt')\n",
    "scripted_model.save(save_file_torch)"
   ]
  },
  {
   "cell_type": "code",
   "execution_count": 7,
   "id": "4398b6ef-ea4f-4f55-84aa-85530b4409bf",
   "metadata": {},
   "outputs": [],
   "source": [
    "device = torch.device(\"cuda\")\n",
    "f_torch_model = '/pscratch/sd/z/zeyuanhu/hugging/E3SM-MMF_ne4/saved_models/v2rh_mc_unet_fix_mae/model.mdlus'\n",
    "model_inf = modulus.Module.from_checkpoint(f_torch_model).to(device)\n",
    "new_model = NewModel(model_inf, input_sub, input_div, out_scale, lbd_qn).to(device)\n",
    "NewModel.device = \"cuda\"\n",
    "device = torch.device(\"cuda\")\n",
    "scripted_model = torch.jit.script(new_model)\n",
    "scripted_model = scripted_model.eval()\n",
    "save_file_torch = os.path.join('/pscratch/sd/z/zeyuanhu/hugging/E3SM-MMF_ne4/saved_models_wrapper/', 'v2rh_mc_unet_fix_mae_cuda.pt')\n",
    "scripted_model.save(save_file_torch)"
   ]
  },
  {
   "cell_type": "markdown",
   "id": "eba76b79-5bea-4f78-a90c-a6b36c205a98",
   "metadata": {},
   "source": [
    "# do inference on GPU"
   ]
  },
  {
   "cell_type": "code",
   "execution_count": 8,
   "id": "18a3c160-4ac3-43d6-8578-3fdaa155b4ad",
   "metadata": {},
   "outputs": [],
   "source": [
    "# Change this path to your own\n",
    "data_path = '/pscratch/sd/z/zeyuanhu/hugging/E3SM-MMF_ne4/preprocessing/v4_testset/'\n",
    "\n",
    "train_input_path = data_path + 'train_input.npy'\n",
    "train_target_path = data_path + 'train_target.npy'\n",
    "val_input_path = data_path + 'val_input.npy'\n",
    "val_target_path = data_path + 'val_target.npy'\n",
    "\n",
    "# data.input_train = data.load_npy_file(train_input_path)\n",
    "# data.target_train = data.load_npy_file(train_target_path)\n",
    "v4_input = np.load(val_input_path)\n",
    "v4_target = np.load(val_target_path)"
   ]
  },
  {
   "cell_type": "code",
   "execution_count": 9,
   "id": "694a664c-6edc-4d5e-b61d-76c851b8dd12",
   "metadata": {},
   "outputs": [],
   "source": [
    "device = torch.device('cuda' if torch.cuda.is_available() else 'cpu')\n",
    "#device = 'cpu'\n",
    "X_input_tensor = torch.tensor(v4_input[0:3840,:], dtype=torch.float32).to(device)\n",
    "scripted_model_read = torch.jit.load(\"/pscratch/sd/z/zeyuanhu/hugging/E3SM-MMF_ne4/saved_models_wrapper/v2rh_mc_fix_huber_cuda.pt\", map_location=device)\n"
   ]
  },
  {
   "cell_type": "code",
   "execution_count": 10,
   "id": "e1950447-31e2-4b74-8c53-87053f04f635",
   "metadata": {},
   "outputs": [
    {
     "name": "stdout",
     "output_type": "stream",
     "text": [
      "Model forward pass running on device: cuda:0\n",
      "Number of available CUDA devices: 1\n"
     ]
    }
   ],
   "source": [
    "with torch.no_grad():\n",
    "    unet_pred_val = scripted_model_read(X_input_tensor[0:3840,:]).to('cpu').numpy()"
   ]
  },
  {
   "cell_type": "code",
   "execution_count": 12,
   "id": "99e37f62-330a-4aa1-a3eb-2f441b301b78",
   "metadata": {},
   "outputs": [
    {
     "name": "stderr",
     "output_type": "stream",
     "text": [
      "/tmp/ipykernel_764262/2229946803.py:9: RuntimeWarning: divide by zero encountered in divide\n",
      "  r2_per_feature_unet_decloud = 1 - (ss_res_mlp_orig / ss_tot)\n",
      "/tmp/ipykernel_764262/2229946803.py:9: RuntimeWarning: invalid value encountered in divide\n",
      "  r2_per_feature_unet_decloud = 1 - (ss_res_mlp_orig / ss_tot)\n"
     ]
    }
   ],
   "source": [
    "truth_val = v4_target[:3840,:]\n",
    "ss_res_mlp_orig = np.sum((truth_val - unet_pred_val) ** 2, axis=0)\n",
    "\n",
    "# Calculate the denominator (total sum of squares)\n",
    "ss_tot = np.sum((truth_val - np.mean(truth_val, axis=0)) ** 2, axis=0)\n",
    "\n",
    "# Calculate R^2 for each feature for MLP\n",
    "# r2_per_feature_unet_v4 = 1 - (ss_res_mlp_orig / ss_tot)\n",
    "r2_per_feature_unet_decloud = 1 - (ss_res_mlp_orig / ss_tot)"
   ]
  },
  {
   "cell_type": "code",
   "execution_count": 13,
   "id": "31de1652-3194-46c3-a52d-964baee8ea20",
   "metadata": {},
   "outputs": [
    {
     "data": {
      "image/png": "[encoded data removed]",
      "text/plain": [
       "<Figure size 800x400 with 1 Axes>"
      ]
     },
     "metadata": {},
     "output_type": "display_data"
    }
   ],
   "source": [
    "# Generate x-axis values (feature indices)\n",
    "# r2_per_feature_unet_v4 = np.load('/global/u2/z/zeyuanhu/notebooks/r2_unet_v4_baseline_fulldata.npy')\n",
    "# # r2_baseline_climsim = np.load('/global/u2/z/zeyuanhu/notebooks/r2_unet_baseline_kaggle.npy')\n",
    "# r2_baseline_climsim = np.load('/global/u2/z/zeyuanhu/notebooks/james-plots/r2_final/r2-v2rh_unet_nonaggressive_cliprh_huber_rop2.npy')\n",
    "\n",
    "features = np.arange(368)\n",
    "\n",
    "r2_v2rhmc = r2_per_feature_unet_decloud.copy()\n",
    "plt.figure(figsize=(8, 4))\n",
    "# plt.plot(features, r2_per_feature_mlp, linestyle='-', color='cyan', label='MLP')\n",
    "# plt.plot(features, r2_per_feature_unet_v3, linestyle='-', color='b', label='Unet_v3')\n",
    "plt.plot(features, r2_v2rhmc, linestyle='-', color='b', label='UNet_v2rhmc (huber)')\n",
    "# plt.plot(features, r2_per_feature_unet_v4, linestyle='-', color='orange', label='UNet_v4_full')\n",
    "# plt.plot(features, r2_baseline_climsim, linestyle='-', color='red', label='UNet_v2 (huber in paper)')\n",
    "plt.title('R² Score Comparison')\n",
    "plt.xlabel('Feature Index')\n",
    "plt.ylabel('R² Score')\n",
    "\n",
    "# Set original x ticks and manually add labels for specific features\n",
    "original_ticks = np.arange(0, r2_v2rhmc.size, 60)\n",
    "plt.xticks(original_ticks)\n",
    "feature_labels = ['dT', 'dQv', 'dQc/dQn', 'dQi', 'dU', 'dV', '2D']\n",
    "for i, label in zip(original_ticks, feature_labels):\n",
    "    plt.text(i+ 30 if label!='2D' else i+8, -0.15, label, ha='center', va='top')\n",
    "\n",
    "plt.ylim(0,1)\n",
    "plt.grid(True, which='both', axis='both', linestyle='-', color='0.75')\n",
    "plt.legend() # Add legend\n",
    "plt.show()\n"
   ]
  },
  {
   "cell_type": "code",
   "execution_count": null,
   "id": "f66a591b-2f9a-4852-bf46-d876533b3edb",
   "metadata": {},
   "outputs": [],
   "source": []
  }
 ],
 "metadata": {
  "kernelspec": {
   "display_name": "MyEnvironment",
   "language": "python",
   "name": "env"
  },
  "language_info": {
   "codemirror_mode": {
    "name": "ipython",
    "version": 3
   },
   "file_extension": ".py",
   "mimetype": "text/x-python",
   "name": "python",
   "nbconvert_exporter": "python",
   "pygments_lexer": "ipython3",
   "version": "3.10.12"
  }
 },
 "nbformat": 4,
 "nbformat_minor": 5
}
