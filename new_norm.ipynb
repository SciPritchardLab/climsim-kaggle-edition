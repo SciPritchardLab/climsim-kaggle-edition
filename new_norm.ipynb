{
 "cells": [
  {
   "cell_type": "code",
   "execution_count": null,
   "id": "5104b745-b725-4b2b-af45-e962f50b77c5",
   "metadata": {},
   "outputs": [
    {
     "name": "stdout",
     "output_type": "stream",
     "text": [
      "begin tracing and scripting\n",
      "Before first traced_model call\n",
      "After first traced_model call\n",
      "first batch done\n",
      "Before second traced_model call\n",
      "After second traced_model call\n",
      "second batch done\n",
      "Before first traced_model call\n",
      "After first traced_model call\n",
      "first batch done\n",
      "Before second traced_model call\n",
      "After second traced_model call\n",
      "second batch done\n"
     ]
    }
   ],
   "source": [
    "import torch\n",
    "import sys\n",
    "import modulus\n",
    "\n",
    "sys.path.append('/global/cfs/cdirs/m4334/jerry/climsim3_dev/baseline_models/pao_model/training_v6/')\n",
    "\n",
    "\n",
    "from pao_model import PaoModel\n",
    "\n",
    "device = torch.device('cuda')\n",
    "\n",
    "def count_trainable_parameters(model):\n",
    "    return sum(p.numel() for p in model.parameters() if p.requires_grad)\n",
    "\n",
    "def check_inf(model):\n",
    "    rand_batch = torch.rand(2, 1399).to(device)\n",
    "    with torch.no_grad():\n",
    "        print('Before first traced_model call')\n",
    "        pred = model(rand_batch)\n",
    "        print('After first traced_model call')\n",
    "        print('first batch done')\n",
    "        print('Before second traced_model call')\n",
    "        pred = model(rand_batch)\n",
    "        print('After second traced_model call')\n",
    "        print('second batch done')\n",
    "\n",
    "new_model = PaoModel(input_profile_num = 23, input_scalar_num = 19).to(device)\n",
    "print('begin tracing and scripting')\n",
    "scripted_model = torch.jit.script(new_model)\n",
    "scripted_model.eval()\n",
    "traced_model = torch.jit.trace(new_model, torch.rand(2, 1399).to(device))\n",
    "traced_model.eval()\n",
    "check_inf(scripted_model)\n",
    "check_inf(traced_model)"
   ]
  },
  {
   "cell_type": "code",
   "execution_count": 2,
   "id": "84640a59-4b22-49f6-a536-58d90f3191aa",
   "metadata": {},
   "outputs": [
    {
     "data": {
      "text/plain": [
       "RecursiveScriptModule(\n",
       "  original_name=PaoModel\n",
       "  (feature_scale_list): RecursiveScriptModule(\n",
       "    original_name=ModuleList\n",
       "    (0): RecursiveScriptModule(original_name=FeatureScale)\n",
       "    (1): RecursiveScriptModule(original_name=FeatureScale)\n",
       "    (2): RecursiveScriptModule(original_name=FeatureScale)\n",
       "    (3): RecursiveScriptModule(original_name=FeatureScale)\n",
       "    (4): RecursiveScriptModule(original_name=FeatureScale)\n",
       "    (5): RecursiveScriptModule(original_name=FeatureScale)\n",
       "    (6): RecursiveScriptModule(original_name=FeatureScale)\n",
       "    (7): RecursiveScriptModule(original_name=FeatureScale)\n",
       "    (8): RecursiveScriptModule(original_name=FeatureScale)\n",
       "    (9): RecursiveScriptModule(original_name=FeatureScale)\n",
       "    (10): RecursiveScriptModule(original_name=FeatureScale)\n",
       "    (11): RecursiveScriptModule(original_name=FeatureScale)\n",
       "    (12): RecursiveScriptModule(original_name=FeatureScale)\n",
       "    (13): RecursiveScriptModule(original_name=FeatureScale)\n",
       "    (14): RecursiveScriptModule(original_name=FeatureScale)\n",
       "    (15): RecursiveScriptModule(original_name=FeatureScale)\n",
       "    (16): RecursiveScriptModule(original_name=FeatureScale)\n",
       "    (17): RecursiveScriptModule(original_name=FeatureScale)\n",
       "    (18): RecursiveScriptModule(original_name=FeatureScale)\n",
       "    (19): RecursiveScriptModule(original_name=FeatureScale)\n",
       "    (20): RecursiveScriptModule(original_name=FeatureScale)\n",
       "    (21): RecursiveScriptModule(original_name=FeatureScale)\n",
       "    (22): RecursiveScriptModule(original_name=FeatureScale)\n",
       "  )\n",
       "  (positional_encoding): RecursiveScriptModule(original_name=Embedding)\n",
       "  (input_linear): RecursiveScriptModule(original_name=Linear)\n",
       "  (other_feats_mlp): RecursiveScriptModule(\n",
       "    original_name=Sequential\n",
       "    (0): RecursiveScriptModule(original_name=Linear)\n",
       "    (1): RecursiveScriptModule(original_name=BatchNorm1d)\n",
       "    (2): RecursiveScriptModule(original_name=GELU)\n",
       "    (3): RecursiveScriptModule(original_name=Linear)\n",
       "    (4): RecursiveScriptModule(original_name=BatchNorm1d)\n",
       "    (5): RecursiveScriptModule(original_name=GELU)\n",
       "  )\n",
       "  (other_feats_proj_list): RecursiveScriptModule(\n",
       "    original_name=ModuleList\n",
       "    (0): RecursiveScriptModule(original_name=Linear)\n",
       "    (1): RecursiveScriptModule(original_name=Linear)\n",
       "    (2): RecursiveScriptModule(original_name=Linear)\n",
       "    (3): RecursiveScriptModule(original_name=Linear)\n",
       "    (4): RecursiveScriptModule(original_name=Linear)\n",
       "    (5): RecursiveScriptModule(original_name=Linear)\n",
       "    (6): RecursiveScriptModule(original_name=Linear)\n",
       "    (7): RecursiveScriptModule(original_name=Linear)\n",
       "    (8): RecursiveScriptModule(original_name=Linear)\n",
       "    (9): RecursiveScriptModule(original_name=Linear)\n",
       "    (10): RecursiveScriptModule(original_name=Linear)\n",
       "    (11): RecursiveScriptModule(original_name=Linear)\n",
       "    (12): RecursiveScriptModule(original_name=Linear)\n",
       "    (13): RecursiveScriptModule(original_name=Linear)\n",
       "    (14): RecursiveScriptModule(original_name=Linear)\n",
       "    (15): RecursiveScriptModule(original_name=Linear)\n",
       "    (16): RecursiveScriptModule(original_name=Linear)\n",
       "    (17): RecursiveScriptModule(original_name=Linear)\n",
       "    (18): RecursiveScriptModule(original_name=Linear)\n",
       "    (19): RecursiveScriptModule(original_name=Linear)\n",
       "    (20): RecursiveScriptModule(original_name=Linear)\n",
       "    (21): RecursiveScriptModule(original_name=Linear)\n",
       "    (22): RecursiveScriptModule(original_name=Linear)\n",
       "    (23): RecursiveScriptModule(original_name=Linear)\n",
       "    (24): RecursiveScriptModule(original_name=Linear)\n",
       "    (25): RecursiveScriptModule(original_name=Linear)\n",
       "    (26): RecursiveScriptModule(original_name=Linear)\n",
       "    (27): RecursiveScriptModule(original_name=Linear)\n",
       "    (28): RecursiveScriptModule(original_name=Linear)\n",
       "    (29): RecursiveScriptModule(original_name=Linear)\n",
       "    (30): RecursiveScriptModule(original_name=Linear)\n",
       "    (31): RecursiveScriptModule(original_name=Linear)\n",
       "    (32): RecursiveScriptModule(original_name=Linear)\n",
       "    (33): RecursiveScriptModule(original_name=Linear)\n",
       "    (34): RecursiveScriptModule(original_name=Linear)\n",
       "    (35): RecursiveScriptModule(original_name=Linear)\n",
       "    (36): RecursiveScriptModule(original_name=Linear)\n",
       "    (37): RecursiveScriptModule(original_name=Linear)\n",
       "    (38): RecursiveScriptModule(original_name=Linear)\n",
       "    (39): RecursiveScriptModule(original_name=Linear)\n",
       "    (40): RecursiveScriptModule(original_name=Linear)\n",
       "    (41): RecursiveScriptModule(original_name=Linear)\n",
       "    (42): RecursiveScriptModule(original_name=Linear)\n",
       "    (43): RecursiveScriptModule(original_name=Linear)\n",
       "    (44): RecursiveScriptModule(original_name=Linear)\n",
       "    (45): RecursiveScriptModule(original_name=Linear)\n",
       "    (46): RecursiveScriptModule(original_name=Linear)\n",
       "    (47): RecursiveScriptModule(original_name=Linear)\n",
       "    (48): RecursiveScriptModule(original_name=Linear)\n",
       "    (49): RecursiveScriptModule(original_name=Linear)\n",
       "    (50): RecursiveScriptModule(original_name=Linear)\n",
       "    (51): RecursiveScriptModule(original_name=Linear)\n",
       "    (52): RecursiveScriptModule(original_name=Linear)\n",
       "    (53): RecursiveScriptModule(original_name=Linear)\n",
       "    (54): RecursiveScriptModule(original_name=Linear)\n",
       "    (55): RecursiveScriptModule(original_name=Linear)\n",
       "    (56): RecursiveScriptModule(original_name=Linear)\n",
       "    (57): RecursiveScriptModule(original_name=Linear)\n",
       "    (58): RecursiveScriptModule(original_name=Linear)\n",
       "    (59): RecursiveScriptModule(original_name=Linear)\n",
       "  )\n",
       "  (profile_layer_norm): RecursiveScriptModule(original_name=LayerNorm)\n",
       "  (cnn1): RecursiveScriptModule(\n",
       "    original_name=Sequential\n",
       "    (0): RecursiveScriptModule(\n",
       "      original_name=ResidualBlock\n",
       "      (conv): RecursiveScriptModule(\n",
       "        original_name=Sequential\n",
       "        (0): RecursiveScriptModule(original_name=Conv1d)\n",
       "        (1): RecursiveScriptModule(original_name=BatchNorm1d)\n",
       "        (2): RecursiveScriptModule(original_name=GELU)\n",
       "        (3): RecursiveScriptModule(original_name=Conv1d)\n",
       "        (4): RecursiveScriptModule(original_name=BatchNorm1d)\n",
       "        (5): RecursiveScriptModule(original_name=GELU)\n",
       "      )\n",
       "      (transformer): RecursiveScriptModule(\n",
       "        original_name=TransformerEncoder\n",
       "        (layers): RecursiveScriptModule(\n",
       "          original_name=ModuleList\n",
       "          (0): RecursiveScriptModule(\n",
       "            original_name=TransformerEncoderLayer\n",
       "            (self_attn): RecursiveScriptModule(\n",
       "              original_name=MultiheadAttention\n",
       "              (out_proj): RecursiveScriptModule(original_name=NonDynamicallyQuantizableLinear)\n",
       "            )\n",
       "            (linear1): RecursiveScriptModule(original_name=Linear)\n",
       "            (dropout): RecursiveScriptModule(original_name=Dropout)\n",
       "            (linear2): RecursiveScriptModule(original_name=Linear)\n",
       "            (norm1): RecursiveScriptModule(original_name=LayerNorm)\n",
       "            (norm2): RecursiveScriptModule(original_name=LayerNorm)\n",
       "            (dropout1): RecursiveScriptModule(original_name=Dropout)\n",
       "            (dropout2): RecursiveScriptModule(original_name=Dropout)\n",
       "          )\n",
       "        )\n",
       "      )\n",
       "    )\n",
       "    (1): RecursiveScriptModule(\n",
       "      original_name=ResidualBlock\n",
       "      (conv): RecursiveScriptModule(\n",
       "        original_name=Sequential\n",
       "        (0): RecursiveScriptModule(original_name=Conv1d)\n",
       "        (1): RecursiveScriptModule(original_name=BatchNorm1d)\n",
       "        (2): RecursiveScriptModule(original_name=GELU)\n",
       "        (3): RecursiveScriptModule(original_name=Conv1d)\n",
       "        (4): RecursiveScriptModule(original_name=BatchNorm1d)\n",
       "        (5): RecursiveScriptModule(original_name=GELU)\n",
       "      )\n",
       "      (transformer): RecursiveScriptModule(\n",
       "        original_name=TransformerEncoder\n",
       "        (layers): RecursiveScriptModule(\n",
       "          original_name=ModuleList\n",
       "          (0): RecursiveScriptModule(\n",
       "            original_name=TransformerEncoderLayer\n",
       "            (self_attn): RecursiveScriptModule(\n",
       "              original_name=MultiheadAttention\n",
       "              (out_proj): RecursiveScriptModule(original_name=NonDynamicallyQuantizableLinear)\n",
       "            )\n",
       "            (linear1): RecursiveScriptModule(original_name=Linear)\n",
       "            (dropout): RecursiveScriptModule(original_name=Dropout)\n",
       "            (linear2): RecursiveScriptModule(original_name=Linear)\n",
       "            (norm1): RecursiveScriptModule(original_name=LayerNorm)\n",
       "            (norm2): RecursiveScriptModule(original_name=LayerNorm)\n",
       "            (dropout1): RecursiveScriptModule(original_name=Dropout)\n",
       "            (dropout2): RecursiveScriptModule(original_name=Dropout)\n",
       "          )\n",
       "        )\n",
       "      )\n",
       "    )\n",
       "    (2): RecursiveScriptModule(\n",
       "      original_name=ResidualBlock\n",
       "      (conv): RecursiveScriptModule(\n",
       "        original_name=Sequential\n",
       "        (0): RecursiveScriptModule(original_name=Conv1d)\n",
       "        (1): RecursiveScriptModule(original_name=BatchNorm1d)\n",
       "        (2): RecursiveScriptModule(original_name=GELU)\n",
       "        (3): RecursiveScriptModule(original_name=Conv1d)\n",
       "        (4): RecursiveScriptModule(original_name=BatchNorm1d)\n",
       "        (5): RecursiveScriptModule(original_name=GELU)\n",
       "      )\n",
       "      (transformer): RecursiveScriptModule(\n",
       "        original_name=TransformerEncoder\n",
       "        (layers): RecursiveScriptModule(\n",
       "          original_name=ModuleList\n",
       "          (0): RecursiveScriptModule(\n",
       "            original_name=TransformerEncoderLayer\n",
       "            (self_attn): RecursiveScriptModule(\n",
       "              original_name=MultiheadAttention\n",
       "              (out_proj): RecursiveScriptModule(original_name=NonDynamicallyQuantizableLinear)\n",
       "            )\n",
       "            (linear1): RecursiveScriptModule(original_name=Linear)\n",
       "            (dropout): RecursiveScriptModule(original_name=Dropout)\n",
       "            (linear2): RecursiveScriptModule(original_name=Linear)\n",
       "            (norm1): RecursiveScriptModule(original_name=LayerNorm)\n",
       "            (norm2): RecursiveScriptModule(original_name=LayerNorm)\n",
       "            (dropout1): RecursiveScriptModule(original_name=Dropout)\n",
       "            (dropout2): RecursiveScriptModule(original_name=Dropout)\n",
       "          )\n",
       "        )\n",
       "      )\n",
       "    )\n",
       "    (3): RecursiveScriptModule(\n",
       "      original_name=ResidualBlock\n",
       "      (conv): RecursiveScriptModule(\n",
       "        original_name=Sequential\n",
       "        (0): RecursiveScriptModule(original_name=Conv1d)\n",
       "        (1): RecursiveScriptModule(original_name=BatchNorm1d)\n",
       "        (2): RecursiveScriptModule(original_name=GELU)\n",
       "        (3): RecursiveScriptModule(original_name=Conv1d)\n",
       "        (4): RecursiveScriptModule(original_name=BatchNorm1d)\n",
       "        (5): RecursiveScriptModule(original_name=GELU)\n",
       "      )\n",
       "      (transformer): RecursiveScriptModule(\n",
       "        original_name=TransformerEncoder\n",
       "        (layers): RecursiveScriptModule(\n",
       "          original_name=ModuleList\n",
       "          (0): RecursiveScriptModule(\n",
       "            original_name=TransformerEncoderLayer\n",
       "            (self_attn): RecursiveScriptModule(\n",
       "              original_name=MultiheadAttention\n",
       "              (out_proj): RecursiveScriptModule(original_name=NonDynamicallyQuantizableLinear)\n",
       "            )\n",
       "            (linear1): RecursiveScriptModule(original_name=Linear)\n",
       "            (dropout): RecursiveScriptModule(original_name=Dropout)\n",
       "            (linear2): RecursiveScriptModule(original_name=Linear)\n",
       "            (norm1): RecursiveScriptModule(original_name=LayerNorm)\n",
       "            (norm2): RecursiveScriptModule(original_name=LayerNorm)\n",
       "            (dropout1): RecursiveScriptModule(original_name=Dropout)\n",
       "            (dropout2): RecursiveScriptModule(original_name=Dropout)\n",
       "          )\n",
       "        )\n",
       "      )\n",
       "    )\n",
       "  )\n",
       "  (lstm): RecursiveScriptModule(\n",
       "    original_name=Sequential\n",
       "    (0): RecursiveScriptModule(original_name=LSTM)\n",
       "  )\n",
       "  (profile_output_mlp): RecursiveScriptModule(\n",
       "    original_name=Sequential\n",
       "    (0): RecursiveScriptModule(original_name=Linear)\n",
       "    (1): RecursiveScriptModule(original_name=GELU)\n",
       "    (2): RecursiveScriptModule(original_name=Linear)\n",
       "    (3): RecursiveScriptModule(original_name=GELU)\n",
       "    (4): RecursiveScriptModule(original_name=Linear)\n",
       "    (5): RecursiveScriptModule(original_name=GELU)\n",
       "    (6): RecursiveScriptModule(original_name=Linear)\n",
       "  )\n",
       "  (scalar_layer_norm): RecursiveScriptModule(original_name=LayerNorm)\n",
       "  (scalar_output_mlp): RecursiveScriptModule(\n",
       "    original_name=Sequential\n",
       "    (0): RecursiveScriptModule(original_name=Linear)\n",
       "    (1): RecursiveScriptModule(original_name=GELU)\n",
       "    (2): RecursiveScriptModule(original_name=Linear)\n",
       "    (3): RecursiveScriptModule(original_name=GELU)\n",
       "    (4): RecursiveScriptModule(original_name=Linear)\n",
       "  )\n",
       ")"
      ]
     },
     "execution_count": 2,
     "metadata": {},
     "output_type": "execute_result"
    }
   ],
   "source": [
    "pao_model_path_modulus = '/global/homes/j/jerrylin/scratch/hugging/E3SM-MMF_ne4/saved_models/climsim3_ensembles_v6/pao_model/pao_model_seed_43/model.mdlus'\n",
    "modulus_model = modulus.Module.from_checkpoint(pao_model_path_modulus).to(device)\n",
    "new_model = PaoModel(\n",
    "                input_profile_num = 23,\n",
    "                input_scalar_num = 19,\n",
    "                target_profile_num = 5,\n",
    "                target_scalar_num = 8,\n",
    "                output_prune = True,\n",
    "                strato_lev_out = 12,\n",
    "                loc_embedding = False,\n",
    "                embedding_type = \"positional\",\n",
    "                hidden_profile_num = 160,\n",
    "                hidden_scalar_num = 160,\n",
    "            ).to(device)\n",
    "new_model.load_state_dict(modulus_model.state_dict())\n",
    "new_scripted_model = torch.jit.script(new_model)\n",
    "new_scripted_model.eval()"
   ]
  },
  {
   "cell_type": "code",
   "execution_count": 3,
   "id": "30b28a5f-037d-4939-b1bc-ffaa6f981b10",
   "metadata": {},
   "outputs": [
    {
     "name": "stdout",
     "output_type": "stream",
     "text": [
      "Before first traced_model call\n",
      "After first traced_model call\n",
      "first batch done\n",
      "Before second traced_model call\n",
      "After second traced_model call\n",
      "second batch done\n"
     ]
    }
   ],
   "source": [
    "check_inf(new_scripted_model)"
   ]
  },
  {
   "cell_type": "code",
   "execution_count": 4,
   "id": "22a2a972-2178-475c-834e-ca9f09cb9612",
   "metadata": {},
   "outputs": [],
   "source": [
    "save_path = '/global/homes/j/jerrylin/scratch/hugging/E3SM-MMF_ne4/saved_models/climsim3_ensembles_v6/pao_model/pao_model_seed_43/model.pt'"
   ]
  },
  {
   "cell_type": "code",
   "execution_count": 5,
   "id": "b73a9265-1dc1-4d53-b5b9-304baf8c755d",
   "metadata": {},
   "outputs": [],
   "source": [
    "new_scripted_model.save(save_path)"
   ]
  },
  {
   "cell_type": "code",
   "execution_count": null,
   "id": "381f9e49-c09c-4080-a364-a02773dbf6bc",
   "metadata": {},
   "outputs": [],
   "source": [
    "check_inf(traced_model)"
   ]
  },
  {
   "cell_type": "code",
   "execution_count": null,
   "id": "05cb28fb-e173-4661-b450-9b5a5381c9b4",
   "metadata": {},
   "outputs": [],
   "source": [
    "check_inf(torchscript_model_2)"
   ]
  },
  {
   "cell_type": "code",
   "execution_count": null,
   "id": "fbd7b4a0-0100-47c0-a277-8a2a0504d6e5",
   "metadata": {},
   "outputs": [],
   "source": []
  },
  {
   "cell_type": "code",
   "execution_count": null,
   "id": "a3e6cce7-852d-479a-b130-1b6084ba8da1",
   "metadata": {},
   "outputs": [],
   "source": []
  },
  {
   "cell_type": "code",
   "execution_count": null,
   "id": "da16effc-a19e-42da-8dbd-47524cc943da",
   "metadata": {},
   "outputs": [],
   "source": [
    "type(new_model)"
   ]
  },
  {
   "cell_type": "code",
   "execution_count": null,
   "id": "ece87097-93ee-4540-a1f7-157f2057d06e",
   "metadata": {},
   "outputs": [],
   "source": [
    "torch.save(new_model, 'new_model.pth')"
   ]
  },
  {
   "cell_type": "code",
   "execution_count": null,
   "id": "e2c065cd-17ef-4207-90d3-d92739f580b3",
   "metadata": {},
   "outputs": [],
   "source": [
    "loaded_model = torch.load('new_model.pth')"
   ]
  },
  {
   "cell_type": "code",
   "execution_count": null,
   "id": "bef4489a-219b-472a-802b-fa63dc9e6c57",
   "metadata": {},
   "outputs": [],
   "source": [
    "type(loaded_model)"
   ]
  },
  {
   "cell_type": "code",
   "execution_count": null,
   "id": "e37758d1-9e5c-4757-a47e-15b9759ecc0e",
   "metadata": {},
   "outputs": [],
   "source": [
    "loaded_model.eval()"
   ]
  },
  {
   "cell_type": "code",
   "execution_count": null,
   "id": "07d0beb9-4751-4ac4-8fc2-7ec965b3c2a7",
   "metadata": {},
   "outputs": [],
   "source": [
    "check_inf(loaded_model)"
   ]
  },
  {
   "cell_type": "code",
   "execution_count": null,
   "id": "2614d191-9c02-4925-91d7-a67daa4b6c66",
   "metadata": {},
   "outputs": [],
   "source": []
  },
  {
   "cell_type": "code",
   "execution_count": null,
   "id": "08e83d7f-5b39-42e4-b43d-531ac0da1f91",
   "metadata": {},
   "outputs": [],
   "source": []
  },
  {
   "cell_type": "code",
   "execution_count": null,
   "id": "d6941e5c-270c-481b-bbfb-e319f3edf05b",
   "metadata": {
    "tags": []
   },
   "outputs": [],
   "source": [
    "from climsim_utils.data_utils import *\n",
    "import numpy as np\n",
    "import xarray as xr"
   ]
  },
  {
   "cell_type": "code",
   "execution_count": null,
   "id": "45f20011-5174-4d31-83ae-ad671ec3cbf2",
   "metadata": {},
   "outputs": [],
   "source": [
    "grid_info = xr.open_dataset('/global/cfs/cdirs/m4334/jerry/climsim3_dev/grid_info/ClimSim_low-res_grid-info.nc')\n",
    "input_mean = xr.open_dataset('/global/cfs/cdirs/m4334/jerry/climsim3_dev/preprocessing/normalizations/inputs/input_mean_v2_rh_mc_pervar.nc')\n",
    "input_max = xr.open_dataset('/global/cfs/cdirs/m4334/jerry/climsim3_dev/preprocessing/normalizations/inputs/input_max_v2_rh_mc_pervar.nc')\n",
    "input_min = xr.open_dataset('/global/cfs/cdirs/m4334/jerry/climsim3_dev/preprocessing/normalizations/inputs/input_min_v2_rh_mc_pervar.nc')\n",
    "output_scale = xr.open_dataset('/global/cfs/cdirs/m4334/jerry/climsim3_dev/preprocessing/normalizations/outputs/output_scale_std_lowerthred_v2_rh_mc.nc')\n",
    "data = data_utils(grid_info = grid_info, \n",
    "                  input_mean = input_mean, \n",
    "                  input_max = input_max, \n",
    "                  input_min = input_min, \n",
    "                  output_scale = output_scale)\n",
    "data.set_to_v2_rh_mc_vars()"
   ]
  },
  {
   "cell_type": "code",
   "execution_count": null,
   "id": "68de6b0f-a9d6-48d5-bd71-3f44403b002d",
   "metadata": {},
   "outputs": [],
   "source": [
    "plt.hist(data.lats)"
   ]
  },
  {
   "cell_type": "code",
   "execution_count": null,
   "id": "6827c1dc-d8d6-4078-bf59-64876fcfa41b",
   "metadata": {},
   "outputs": [],
   "source": [
    "train_set_paths = [f'/pscratch/sd/j/jerrylin/hugging/E3SM-MMF_ne4/preprocessing/v2_rh_mc/train_set/{x}/' for x in \\\n",
    "                   ['11', '12', '21', '22', '31', '32', '41', '42', '51', '52', '61', '62', '71', '72']]\n",
    "train_input = np.concatenate([np.load(f'{train_set_path}/train_input.npy') for train_set_path in train_set_paths], axis = 0)"
   ]
  },
  {
   "cell_type": "code",
   "execution_count": null,
   "id": "30e0ebdb-45f2-46d7-b0bc-595e03cc76d4",
   "metadata": {},
   "outputs": [],
   "source": [
    "npy_mean = np.mean(train_input, axis = 0)\n",
    "npy_std = np.std(train_input, axis = 0)"
   ]
  },
  {
   "cell_type": "code",
   "execution_count": null,
   "id": "9dbb2576-be85-4ea6-a4e7-dc33e2188c93",
   "metadata": {},
   "outputs": [],
   "source": [
    "grid_info = xr.open_dataset('/global/cfs/cdirs/m4334/jerry/climsim3_dev/grid_info/ClimSim_low-res_grid-info.nc')\n",
    "input_mean = xr.open_dataset('/global/cfs/cdirs/m4334/jerry/climsim3_dev/preprocessing/normalizations/inputs/input_mean_v2_rh_mc_pervar.nc')\n",
    "input_max = xr.open_dataset('/global/cfs/cdirs/m4334/jerry/climsim3_dev/preprocessing/normalizations/inputs/input_max_v2_rh_mc_pervar.nc')\n",
    "input_min = xr.open_dataset('/global/cfs/cdirs/m4334/jerry/climsim3_dev/preprocessing/normalizations/inputs/input_min_v2_rh_mc_pervar.nc')\n",
    "output_scale = xr.open_dataset('/global/cfs/cdirs/m4334/jerry/climsim3_dev/preprocessing/normalizations/outputs/output_scale_std_lowerthred_v2_rh_mc.nc')\n",
    "data = data_utils(grid_info = grid_info, \n",
    "                  input_mean = input_mean, \n",
    "                  input_max = input_max, \n",
    "                  input_min = input_min, \n",
    "                  output_scale = output_scale)\n",
    "data.set_to_v2_rh_mc_vars()\n",
    "input_sub, input_div, out_scale = data.save_norm(write=False)"
   ]
  },
  {
   "cell_type": "code",
   "execution_count": null,
   "id": "becc0218-dbab-42da-982c-46166d585831",
   "metadata": {},
   "outputs": [],
   "source": [
    "train_input.shape"
   ]
  },
  {
   "cell_type": "code",
   "execution_count": null,
   "id": "aa49d439-44b6-4931-87bf-5f525087eb68",
   "metadata": {},
   "outputs": [],
   "source": []
  },
  {
   "cell_type": "code",
   "execution_count": null,
   "id": "d8f5f11f-1e19-4632-abcd-63f2c413525a",
   "metadata": {},
   "outputs": [],
   "source": [
    "train_input[0,0]"
   ]
  },
  {
   "cell_type": "code",
   "execution_count": null,
   "id": "ee4222d8-43f2-4dc4-9c35-eea96316ed24",
   "metadata": {},
   "outputs": [],
   "source": [
    "num_samples = 20000000\n",
    "np.sum(train_input[:num_samples,:10], axis=0)/num_samples"
   ]
  },
  {
   "cell_type": "code",
   "execution_count": null,
   "id": "6664450b-8685-4604-96ee-548a2b075b63",
   "metadata": {},
   "outputs": [],
   "source": [
    "import matplotlib.pyplot as plt\n",
    "plt.hist(train_input[:,0], bins=100)\n",
    "plt.show()\n",
    "#np.nanmean(train_input[:,:10], axis=0)"
   ]
  },
  {
   "cell_type": "code",
   "execution_count": null,
   "id": "2354b184-89dc-46cc-bfb5-e1dbc4ab0461",
   "metadata": {},
   "outputs": [],
   "source": [
    "train_input[:,0][:60]"
   ]
  },
  {
   "cell_type": "code",
   "execution_count": null,
   "id": "ea55508f-1458-4351-9e58-ef370a602bf4",
   "metadata": {},
   "outputs": [],
   "source": [
    "np.mean(train_input, axis = 0)[0:60]"
   ]
  },
  {
   "cell_type": "code",
   "execution_count": null,
   "id": "ab792a82-effa-4d4b-ac44-87f670f822d1",
   "metadata": {},
   "outputs": [],
   "source": [
    "np.mean(train_input, axis = 0, dtype = np.float64)[0:60]"
   ]
  },
  {
   "cell_type": "code",
   "execution_count": null,
   "id": "1200d0d5-9c8f-4808-acca-def6da402675",
   "metadata": {},
   "outputs": [],
   "source": [
    "16777215/60"
   ]
  },
  {
   "cell_type": "code",
   "execution_count": null,
   "id": "af84f90f-d594-4ad6-afce-9aa33a283781",
   "metadata": {},
   "outputs": [],
   "source": [
    "print(npy_mean[:60])"
   ]
  },
  {
   "cell_type": "code",
   "execution_count": null,
   "id": "a09fe729-1508-4e31-8048-9a029debd5a5",
   "metadata": {},
   "outputs": [],
   "source": [
    "print(input_sub[:60])"
   ]
  },
  {
   "cell_type": "code",
   "execution_count": null,
   "id": "34bc2ec5-74ce-4f77-8bb3-3405932057c5",
   "metadata": {},
   "outputs": [],
   "source": [
    "path_dict = {\n",
    "input_mean_path: '/global/cfs/cdirs/m4334/jerry/climsim3_dev/preprocessing/normalizations/inputs/input_mean_v2_rh_mc_pervar.nc'\n",
    "input_max_path: '/global/cfs/cdirs/m4334/jerry/climsim3_dev/preprocessing/normalizations/inputs/input_max_v2_rh_mc_pervar.nc'\n",
    "input_min_path: '/global/cfs/cdirs/m4334/jerry/climsim3_dev/preprocessing/normalizations/inputs/input_min_v2_rh_mc_pervar.nc'}"
   ]
  },
  {
   "cell_type": "code",
   "execution_count": null,
   "id": "9598393a-830e-4c71-aae3-dc3fa3c845eb",
   "metadata": {},
   "outputs": [],
   "source": [
    "10089984/2"
   ]
  },
  {
   "cell_type": "code",
   "execution_count": null,
   "id": "7416277d-8fcb-4297-ab50-240b16ce1c1b",
   "metadata": {},
   "outputs": [],
   "source": [
    "woah.shape"
   ]
  },
  {
   "cell_type": "markdown",
   "id": "4b82db83-7ae0-423b-b994-7df5d734b101",
   "metadata": {
    "tags": []
   },
   "source": [
    "### Instantiating class"
   ]
  },
  {
   "cell_type": "markdown",
   "id": "b542b197-e371-4346-94b4-bc5ecfcf0f82",
   "metadata": {},
   "source": [
    "The example below will save training data in both .h5 and .npy format. Adjust if you only need one format. Also adjust input_abbrev to the input data files you will use. We expanded the original '.mli.' input files to include additional features such as previous steps' information, and '.mlexpand.' was just an arbitrary name we used for the expanded input files."
   ]
  },
  {
   "cell_type": "markdown",
   "id": "826cf98d-4871-4a02-ba6a-fe90df706d5b",
   "metadata": {
    "tags": []
   },
   "source": [
    "Currently the training script would assume the training set is in .h5 format while the validation set is in .npy form. It's fine to only keep save_h5=True in the block below for generating training data."
   ]
  },
  {
   "cell_type": "code",
   "execution_count": null,
   "id": "ea4baee2-c25e-4e14-bae4-038e67a40740",
   "metadata": {
    "tags": []
   },
   "outputs": [],
   "source": [
    "grid_path = '/global/u2/z/zeyuanhu/nvidia_codes/Climsim_private/grid_info/ClimSim_low-res_grid-info.nc'\n",
    "norm_path = '/global/u2/z/zeyuanhu/nvidia_codes/Climsim_private/preprocessing/normalizations/'\n",
    "\n",
    "grid_info = xr.open_dataset(grid_path)\n",
    "#no naming issue here. Here these normalization-related files are just placeholders since we set normalize=False in the data_utils.\n",
    "input_mean = xr.open_dataset(norm_path + 'inputs/input_mean_v5_pervar.nc')\n",
    "input_max = xr.open_dataset(norm_path + 'inputs/input_max_v5_pervar.nc')\n",
    "input_min = xr.open_dataset(norm_path + 'inputs/input_min_v5_pervar.nc')\n",
    "output_scale = xr.open_dataset(norm_path + 'outputs/output_scale_std_lowerthred_v5.nc')\n"
   ]
  },
  {
   "cell_type": "code",
   "execution_count": null,
   "id": "2f1cf9ea-41d1-4b72-bff1-9a900188e834",
   "metadata": {
    "tags": []
   },
   "outputs": [],
   "source": []
  },
  {
   "cell_type": "code",
   "execution_count": null,
   "id": "53a7a139-d2f7-4229-8360-9f7f0422703e",
   "metadata": {
    "tags": []
   },
   "outputs": [],
   "source": [
    "data.input_vars"
   ]
  },
  {
   "cell_type": "markdown",
   "id": "ca3d01fa-eed6-493b-9e66-65b43796354b",
   "metadata": {},
   "source": [
    "### Create training data"
   ]
  },
  {
   "cell_type": "markdown",
   "id": "ab985d2d-ce4b-4bfd-81cd-c67d9502a2fb",
   "metadata": {},
   "source": [
    "Below is an example of creating the training data by integrating the 7 year climsim simulation data. A subsampling of 1000 is used as an example. In the actual work we did, we used a stride_sample=1. We could not fit the full 7-year data into the memory wihout subsampling. If that's also the case for you, try to only process a subset of data at one time by adjusting regexps in set_regexps method. We saved 14 separate input .h5 files. For each year, we saved two files by setting start_idx=0 or 1. We have a folder like v2_full, which includes 14 subfolders named '11', '12', '21', '22', ..., '71','72', and each subfolder contains a train_input.h5 and train_target.h5. How you split to save training data won't influence the training. The training script will read in all the samples and randomly select samples across all the samples to form each batch."
   ]
  },
  {
   "cell_type": "code",
   "execution_count": null,
   "id": "e07c633a-cad8-4cce-9f40-7f4acff845a5",
   "metadata": {
    "tags": []
   },
   "outputs": [],
   "source": [
    "# set regular expressions for selecting training data\n",
    "data.set_regexps(data_split = 'train', \n",
    "                regexps = ['E3SM-MMF.mlexpand.000[1234567]-*-*-*.nc', # years 1 through 7\n",
    "                        'E3SM-MMF.mlexpand.0008-01-*-*.nc']) # first month of year 8\n",
    "# set temporal subsampling\n",
    "data.set_stride_sample(data_split = 'train', stride_sample = 1000)\n",
    "# create list of files to extract data from\n",
    "data.set_filelist(data_split = 'train', start_idx=0)\n",
    "# save numpy files of training data\n",
    "data.save_as_npy(data_split = 'train', save_path = '/global/homes/z/zeyuanhu/scratch/hugging/E3SM-MMF_ne4/preprocessing/v2_example/')"
   ]
  },
  {
   "cell_type": "markdown",
   "id": "1cfc28f9-f333-4433-b9cc-8d0ecc3d7f07",
   "metadata": {
    "tags": []
   },
   "source": [
    "### Create validation data"
   ]
  },
  {
   "cell_type": "code",
   "execution_count": null,
   "id": "97cafa5c-0117-45e5-9488-0e2923f498f8",
   "metadata": {
    "tags": []
   },
   "outputs": [],
   "source": [
    "# set regular expressions for selecting validation data\n",
    "data.set_regexps(data_split = 'val',\n",
    "                 regexps = ['E3SM-MMF.mlexpand.0008-0[23456789]-*-*.nc', # months 2 through 9 of year 8\n",
    "                            'E3SM-MMF.mlexpand.0008-1[012]-*-*.nc', # months 10 through 12 of year 8\n",
    "                            'E3SM-MMF.mlexpand.0009-01-*-*.nc']) # first month of year 9\n",
    "# set temporal subsampling\n",
    "# data.set_stride_sample(data_split = 'val', stride_sample = 7)\n",
    "data.set_stride_sample(data_split = 'val', stride_sample = 700)\n",
    "# create list of files to extract data from\n",
    "data.set_filelist(data_split = 'val')\n",
    "# save numpy files of validation data\n",
    "data.save_as_npy(data_split = 'val', save_path = '/global/homes/z/zeyuanhu/scratch/hugging/E3SM-MMF_ne4/preprocessing/v2_example/')"
   ]
  },
  {
   "cell_type": "markdown",
   "id": "e9cd7827-3210-444e-be21-9126518c3cc6",
   "metadata": {},
   "source": [
    "### Create test data"
   ]
  },
  {
   "cell_type": "code",
   "execution_count": null,
   "id": "14c81c8b-486b-4fab-8167-24e55b4c7719",
   "metadata": {
    "tags": []
   },
   "outputs": [],
   "source": [
    "data.data_path = '/global/homes/z/zeyuanhu/scratch/hugging/E3SM-MMF_ne4/_test/'\n",
    "\n",
    "data.set_to_v4_vars()\n",
    "\n",
    "# set regular expressions for selecting validation data\n",
    "data.set_regexps(data_split = 'test',\n",
    "                 regexps = ['E3SM-MMF.mlexpand.0009-0[3456789]-*-*.nc', \n",
    "                            'E3SM-MMF.mlexpand.0009-1[012]-*-*.nc',\n",
    "                            'E3SM-MMF.mlexpand.0010-*-*-*.nc',\n",
    "                            'E3SM-MMF.mlexpand.0011-0[12]-*-*.nc'])\n",
    "# set temporal subsampling\n",
    "# data.set_stride_sample(data_split = 'test', stride_sample = 7)\n",
    "data.set_stride_sample(data_split = 'test', stride_sample = 700)\n",
    "# create list of files to extract data from\n",
    "data.set_filelist(data_split = 'test')\n",
    "# save numpy files of validation data\n",
    "data.save_as_npy(data_split = 'test', save_path = '/global/homes/z/zeyuanhu/scratch/hugging/E3SM-MMF_ne4/preprocessing/v2_example/')"
   ]
  },
  {
   "cell_type": "code",
   "execution_count": null,
   "id": "ad0d01b8-b20c-4dec-a967-981f6ecf514b",
   "metadata": {
    "tags": []
   },
   "outputs": [],
   "source": [
    "!ls /global/homes/z/zeyuanhu/scratch/hugging/E3SM-MMF_ne4/preprocessing/v2_example/"
   ]
  }
 ],
 "metadata": {
  "kernelspec": {
   "display_name": "MyEnvironment",
   "language": "python",
   "name": "env"
  },
  "language_info": {
   "codemirror_mode": {
    "name": "ipython",
    "version": 3
   },
   "file_extension": ".py",
   "mimetype": "text/x-python",
   "name": "python",
   "nbconvert_exporter": "python",
   "pygments_lexer": "ipython3",
   "version": "3.10.12"
  }
 },
 "nbformat": 4,
 "nbformat_minor": 5
}
